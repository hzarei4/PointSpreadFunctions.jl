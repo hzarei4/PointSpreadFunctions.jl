{
 "cells": [
  {
   "cell_type": "code",
   "execution_count": null,
   "metadata": {},
   "outputs": [],
   "source": [
    "using Pkg\n",
    "Pkg.activate(\".\")"
   ]
  },
  {
   "cell_type": "code",
   "execution_count": null,
   "metadata": {},
   "outputs": [],
   "source": [
    "using Revise, Markdown\n",
    "using FourierTools\n",
    "using NDTools, Plots, ImageShow"
   ]
  },
  {
   "cell_type": "code",
   "execution_count": null,
   "metadata": {},
   "outputs": [],
   "source": [
    "function show_xyz(args...; z_offset=0, gamma=nothing, bg=0.12, dx=5, dy=5)\n",
    "    dat = []\n",
    "    sizes = size.(args)\n",
    "    mdim = maximum(length.(sizes))\n",
    "    max_size = Tuple(ones(Int, 4))\n",
    "    has_z = false\n",
    "    n=0\n",
    "    for s in sizes\n",
    "        n+=1\n",
    "        max_size = max.(max_size,expand_size(s,max_size))\n",
    "        has_z = has_z || size(args[n],3) > 1\n",
    "    end\n",
    "\n",
    "    if isnothing(gamma)\n",
    "        gamma= (eltype(args[1]) <: Complex) ? 0.6 : 0.4\n",
    "    end\n",
    "    canvas = bg .* ones(length(args)*(max_size[2]+dy), (has_z+1)*max_size[4]*(max_size[1]+dx))\n",
    "    n=0\n",
    "    for data in args\n",
    "        n+=1\n",
    "        data = expand_dims(data,Val(4))\n",
    "        scale = inv(maximum(abs.((data))))\n",
    "        double = (size(data,3)>1) ? 2 : 1\n",
    "        for el in 1:size(data,4)\n",
    "            midz = size(data,3)÷2+1+z_offset\n",
    "            midy = size(data,2)÷2+1\n",
    "            src = (scale.*(abs.(data[:,:,midz,el]))').^gamma\n",
    "            select_region!(src, canvas, dst_center=ceil.(Int, ((n-0.5)*(max_size[2]+dy), ((el-1)+0.5)*(max_size[1]+dx))))\n",
    "            if double > 1\n",
    "                src = (scale.*(abs.(data[:,midy,:,el]))').^gamma\n",
    "                select_region!(src, canvas, dst_center=ceil.(Int, ((n-0.5)*(max_size[2]+dy), (max_size[4]+(el-1)+0.5)*(max_size[1]+dx))))\n",
    "            end\n",
    "        end\n",
    "    end\n",
    "    myim = Gray.(canvas)\n",
    "    return myim\n",
    "end;"
   ]
  },
  {
   "cell_type": "markdown",
   "metadata": {},
   "source": []
  },
  {
   "cell_type": "markdown",
   "metadata": {},
   "source": [
    "# JuliaCon Talk 2022 on PointSpreadFunctions.jl, \n",
    "# a toolbox for simulating optical point spread functions (PSFs)\n",
    "# Overview:\n",
    "+ Simple Example\n",
    "+ Steps of High-NA PSF Simulation\n",
    "+ Calculation Methods\n",
    "+ Microscopy Modes\n",
    "+ Implementation Details\n",
    "+ Optical Transfer Functions\n",
    "+ Julia Advantages\n",
    "+ Outlook\n",
    "\n",
    "# Simulate a first simple PSF\n",
    "\n",
    "- Prepare the required parameters\n",
    "- Simulate the widefield PSF\n",
    "- Display the result"
   ]
  },
  {
   "cell_type": "code",
   "execution_count": null,
   "metadata": {},
   "outputs": [],
   "source": [
    "using PointSpreadFunctions"
   ]
  },
  {
   "cell_type": "markdown",
   "metadata": {},
   "source": [
    "## Required Parameters: Wavelength, NA, n, size, sampling"
   ]
  },
  {
   "cell_type": "code",
   "execution_count": null,
   "metadata": {},
   "outputs": [],
   "source": [
    "λ_em = 0.5; NA = 1.4; n = 1.52\n",
    "λ_ex = 0.488 # only needed for some PointSpreadFunctions, such as confocal, ISM or TwoPhoton\n",
    "pp = PSFParams(λ_em, NA, n; pol=pol_x)\n",
    "\n",
    "sz = (256, 256, 256)\n",
    "sampling = (0.050,0.050,0.050)\n",
    "print(pp)"
   ]
  },
  {
   "cell_type": "markdown",
   "metadata": {},
   "source": [
    "## Simulate Widefield PSF"
   ]
  },
  {
   "cell_type": "code",
   "execution_count": null,
   "metadata": {},
   "outputs": [],
   "source": [
    "p = psf(sz, pp; sampling=sampling);"
   ]
  },
  {
   "cell_type": "markdown",
   "metadata": {},
   "source": [
    "# Display Data"
   ]
  },
  {
   "cell_type": "code",
   "execution_count": null,
   "metadata": {},
   "outputs": [],
   "source": [
    "show_xyz(p)"
   ]
  },
  {
   "cell_type": "markdown",
   "metadata": {},
   "source": [
    "Widefield PSF XY, XZ"
   ]
  },
  {
   "cell_type": "markdown",
   "metadata": {},
   "source": [
    "# Steps of High-NA PSF Simulation\n",
    "# Step One: Pupil Plane Ex and Ey (complex) Amplitudes"
   ]
  },
  {
   "cell_type": "code",
   "execution_count": null,
   "metadata": {},
   "outputs": [],
   "source": [
    "my_pupil = PointSpreadFunctions.field_pupil(sz, pp, sampling) .* get_pupil_aperture(sz,pp,sampling)\n",
    "show_xyz(my_pupil)"
   ]
  },
  {
   "cell_type": "markdown",
   "metadata": {},
   "source": [
    "Pupil Ex (left) and Ey (right) amplitudes"
   ]
  },
  {
   "cell_type": "markdown",
   "metadata": {},
   "source": [
    "# Step Two: Reference Sphere Ex, Ey, Ez Amplitudes\n",
    "+ change Ex, Ey to radial and azimuthal local coordinate system\n",
    "+ map onto 3D sphere by preserving the length of each vector\n",
    "+ change coordinate system back to Ex, Ey, Ez"
   ]
  },
  {
   "cell_type": "code",
   "execution_count": null,
   "metadata": {},
   "outputs": [],
   "source": [
    "my_field = PointSpreadFunctions.pupil_xyz(sz, pp, sampling) \n",
    "show_xyz(my_field)"
   ]
  },
  {
   "cell_type": "markdown",
   "metadata": {},
   "source": [
    "Ex, Ey, and Ez Pupils on the Gaussian Reference Sphere"
   ]
  },
  {
   "cell_type": "markdown",
   "metadata": {},
   "source": [
    "# Step Three: The Aplanatic Factor\n",
    "Accounting for the angular dependence of an aplanatic objective following Abbe's sine condition.\n",
    "\n",
    "Energy distributes similarly to the seasons on earth.\n",
    "+ sqrt.(cos(theta))     for excitation\n",
    "+ 1./sqrt.(cos(theta))  for emission"
   ]
  },
  {
   "cell_type": "code",
   "execution_count": null,
   "metadata": {},
   "outputs": [],
   "source": [
    "pp_em = PSFParams(0.5, 1.4, 1.52; pol=pol_x, method=MethodPropagate)\n",
    "pa_em = apsf((256,256,1), pp_em; sampling=sampling)\n",
    "\n",
    "pp_ex = PSFParams(0.5, 1.4, 1.52; pol=pol_x, method=MethodPropagate, aplanatic=aplanatic_illumination)\n",
    "pa_ex = apsf((256,256,1), pp_ex; sampling=sampling)\n",
    "# size(pa_ex)\n",
    "show_xyz(ft2d(pa_em), ft2d(pa_ex), gamma=1.0)"
   ]
  },
  {
   "cell_type": "markdown",
   "metadata": {},
   "source": [
    "Comparison of x-polarized pupils for emission (top) and excitation (bottom). Note the different `aplanatic` factor"
   ]
  },
  {
   "cell_type": "markdown",
   "metadata": {},
   "source": [
    "# Step Four: Propagation"
   ]
  },
  {
   "cell_type": "code",
   "execution_count": null,
   "metadata": {},
   "outputs": [],
   "source": [
    "pa = apsf(sz, pp_em; sampling=sampling)\n",
    "show_xyz(pa)"
   ]
  },
  {
   "cell_type": "markdown",
   "metadata": {},
   "source": [
    "X, Y Z  Electric field amplitudexs. Left: XY-Plane, Right: XZ-Plane"
   ]
  },
  {
   "cell_type": "markdown",
   "metadata": {},
   "source": [
    "# Step Five: Towards Intensity\n",
    "+ random oriented molecules: sum the absolute squares of each field |Ex|^2 + |Ey|^2 + |Ez|^2"
   ]
  },
  {
   "cell_type": "code",
   "execution_count": null,
   "metadata": {},
   "outputs": [],
   "source": [
    "psf_int = sum(abs2.(pa), dims=4)\n",
    "show_xyz(psf_int)"
   ]
  },
  {
   "cell_type": "markdown",
   "metadata": {},
   "source": []
  },
  {
   "cell_type": "markdown",
   "metadata": {},
   "source": [
    "# Influence of the Field Vectors on Dipole PSFs  "
   ]
  },
  {
   "cell_type": "code",
   "execution_count": null,
   "metadata": {},
   "outputs": [],
   "source": [
    "pp = PSFParams(0.5, 1.2, 1.52; pol=pol_circ)\n",
    "pp1 = PSFParams(pp; transition_dipole=(1.0, 0.0, 0.0)); p1 = psf(sz, pp1; sampling=sampling);\n",
    "pp3 = PSFParams(pp; transition_dipole=(0.0, 0.0, 1.0)); p3 = psf(sz, pp3; sampling=sampling);\n",
    "show_xyz(p1,p3; z_offset=0, gamma=0.5) # random/circular polarisation,  dipole X, XZ, Z-oriented"
   ]
  },
  {
   "cell_type": "markdown",
   "metadata": {},
   "source": [
    "emission dipole (top): parallel and (bottom): perpendicular to optical axis"
   ]
  },
  {
   "cell_type": "markdown",
   "metadata": {},
   "source": [
    "# Calculation Methods"
   ]
  },
  {
   "cell_type": "code",
   "execution_count": null,
   "metadata": {},
   "outputs": [],
   "source": [
    "pp1 = PSFParams(λ_em, NA, n; method=MethodPropagate); @time p_slice = psf(sz, pp1; sampling=sampling);\n",
    "pp2 = PSFParams(λ_em, NA, n; method=MethodRichardsWolf); @time p_RW = psf(sz, pp2; sampling=sampling);\n",
    "pp3 = PSFParams(λ_em, NA, n; method=MethodPropagateIterative); @time p_iter = psf(sz, pp3; sampling=sampling);\n",
    "pp4 = PSFParams(λ_em, NA, n; method=MethodShell); @time p_shell = psf(sz, pp3; sampling=sampling);\n",
    "pp5 = PSFParams(λ_em, NA, n; method=MethodSincR); @time p_sincr = psf(sz, pp3; sampling=sampling);\n",
    "show_xyz(p_slice, p_RW, p_iter, p_shell, p_sincr)"
   ]
  },
  {
   "cell_type": "markdown",
   "metadata": {},
   "source": [
    "XY and XZ-views of slice propagation, Richards&Wolf model, iterative slice propagation, shell method, SincR method"
   ]
  },
  {
   "cell_type": "markdown",
   "metadata": {},
   "source": [
    "# Microscopy Modes\n",
    "+ general PSF parameters: argument of the `PSFParams` structure \n",
    "+ mode-specific parameters: `psf` arguments "
   ]
  },
  {
   "cell_type": "code",
   "execution_count": null,
   "metadata": {},
   "outputs": [],
   "source": [
    "Mode4Pi"
   ]
  },
  {
   "cell_type": "code",
   "execution_count": null,
   "metadata": {},
   "outputs": [],
   "source": [
    "sampling = (0.04,0.04,0.04); sz = (128,128,128)\n",
    "pp_em = PSFParams(λ_em, NA, n; mode=ModeWidefield); \n",
    "\n",
    "p_wf = psf(sz, pp_em; sampling=sampling);\n",
    "pp_ex = PSFParams(λ_ex, NA, n; mode=ModeWidefield, aplanatic=aplanatic_illumination); \n",
    "\n",
    "@time p_wf_ex = psf(sz, pp_ex; sampling=sampling);\n",
    "pp_ex2p = PSFParams(λ_ex*2, NA, n; mode=ModeWidefield, aplanatic=aplanatic_illumination, pol=pol_x); \n",
    "\n",
    "pinhole = 0.5 # in Airy Units\n",
    "pp_conf = PSFParams(λ_em, NA, n; mode=ModeConfocal); \n",
    "@time p_conf = psf(sz, pp_conf; pp_ex=pp_ex, pinhole=pinhole, sampling=sampling);\n",
    "\n",
    "pp_ism = PSFParams(λ_em, NA, n; mode=ModeISM); \n",
    "@time p_ism = psf(sz, pp_ism; pp_ex=pp_ex, sampling=sampling, pinhole_dist=0.12);\n",
    "\n",
    "pp_2p = PSFParams(λ_ex * 2, NA, n; mode=Mode2Photon, aplanatic=aplanatic_illumination); \n",
    "@time p_2p = psf(sz, pp_2p; sampling=sampling);\n",
    "\n",
    "pp_ex = PSFParams(λ_ex, NA, n; mode=Mode4Pi, aplanatic=aplanatic_illumination, pol=pol_x); \n",
    "pp_4pi = PSFParams(λ_em, NA, n; mode=Mode4Pi, pol=pol_x); \n",
    "@time p_4pi = psf(sz, pp_ex; pp_em = pp_4pi, pp_em2=pp_4pi, pp_ex2=pp_ex, pinhole=1.0, sampling=sampling, ex_modifier=modify_ident);\n",
    "\n",
    "show_xyz(p_wf, p_wf_ex, p_conf, p_ism[3], p_2p, p_4pi; gamma=0.4)"
   ]
  },
  {
   "cell_type": "markdown",
   "metadata": {},
   "source": [
    "XY and XZ views of (top to bottom): Widefield, Scanning Laser excitation, Confocal, ISM, Two-Photon, 4Pi Two-Photon Type A "
   ]
  },
  {
   "cell_type": "markdown",
   "metadata": {},
   "source": [
    "# Optical Transfer Functions\n",
    "Lets looks at the OTFs:"
   ]
  },
  {
   "cell_type": "code",
   "execution_count": null,
   "metadata": {},
   "outputs": [],
   "source": [
    "show_xyz(ft(p_wf), ft(p_wf_ex), ft(p_conf), ft(p_ism[3]), ft(p_2p), ft(p_4pi))"
   ]
  },
  {
   "cell_type": "markdown",
   "metadata": {},
   "source": [
    "## Default Datatype is Float32\n",
    "Let´s check this:"
   ]
  },
  {
   "cell_type": "code",
   "execution_count": null,
   "metadata": {},
   "outputs": [],
   "source": [
    "@show eltype(p_wf)\n",
    "@show eltype(p_wf_ex)\n",
    "@show eltype(p_conf)\n",
    "@show eltype(p_ism[1])\n",
    "@show eltype(p_2p)\n",
    "@show eltype(p_4pi);\n"
   ]
  },
  {
   "cell_type": "markdown",
   "metadata": {},
   "source": [
    "# Aberrations\n",
    "+ based on the package ZernikePolynomials.jl\n",
    "\n",
    "can be defined independently for excitation / emission, top / bottom 4Pi PSFs."
   ]
  },
  {
   "cell_type": "code",
   "execution_count": null,
   "metadata": {},
   "outputs": [],
   "source": [
    "aberr_sp = Aberrations([Zernike_Spherical],[0.2]); sz=(256,256,256)\n",
    "pp_sp = PSFParams(λ_em, NA, n; method=MethodPropagateIterative, aberrations= aberr_sp)\n",
    "p_sp = psf(sz, pp_sp; sampling=sampling);\n",
    "\n",
    "aberr_as = Aberrations([Zernike_ObliqueAstigmatism],[0.1]);\n",
    "pp_as = PSFParams(λ_em, NA, n; method=MethodPropagateIterative, aberrations= aberr_as)\n",
    "p_as = psf(sz, pp_as; sampling=sampling);\n",
    "\n",
    "show_xyz(p_sp, p_as, z_offset=-8, gamma=0.5)"
   ]
  },
  {
   "cell_type": "markdown",
   "metadata": {},
   "source": [
    "Out-of-focus XY and XZ slice of spherical aberration (top) and oblique astigmatism (bottom)"
   ]
  },
  {
   "cell_type": "markdown",
   "metadata": {},
   "source": [
    "# Julia Implementation Details\n",
    "+ one general psf function with various `method=` arguments branches to individual PSF calculation routines\n",
    "+ `psf(::Type{ModeConfocal}, sz::NTuple, ...` is called via `psf(ModeConfocal, sz, ...)`\n",
    "+ propagations are done via the `rft` goodies in the FourierTools toolbox\n",
    "+ pinholes and pupils were implemented using the `jinc`/`sinc`-trick (i.e. generating the FT rather than the function)\n",
    "+ pinholes can be square-shaped\n",
    "+ the `ZernikePolynomial.jl` was helpful\n",
    "\n",
    "# Advantages of Julia\n",
    "+ Julia's speet really pays off\n",
    "+ Julia's dispatch mechanism is great!\n",
    "+ Julia's non-existing `squeeze` function is a blessing!\n",
    "## Branches are defined as a struct hierarchy (waiting for Julia/VSCode support of child-class parameter selection)"
   ]
  },
  {
   "cell_type": "markdown",
   "metadata": {},
   "source": []
  },
  {
   "cell_type": "code",
   "execution_count": null,
   "metadata": {},
   "outputs": [],
   "source": [
    "\"\"\"\n",
    "abstract type PSFMode end\n",
    "struct ModeWidefield <: PSFMode end\n",
    "struct ModeConfocal <: PSFMode end\n",
    "struct ModeISM <: PSFMode end\n",
    "struct Mode2Photon <: PSFMode end\n",
    "struct Mode4Pi <: PSFMode end\n",
    "struct ModeSTED <: PSFMode end\n",
    "\n",
    "abstract type PSFMethod end\n",
    "struct MethodSincR <: PSFMethod end\n",
    "struct MethodPropagate <: PSFMethod end\n",
    "struct MethodPropagateIterative<: PSFMethod end\n",
    "struct MethodRichardsWolf <: PSFMethod end\n",
    "struct MethodShell <: PSFMethod end\n",
    "struct MethodParaxial <: PSFMethod end\n",
    "\"\"\""
   ]
  },
  {
   "cell_type": "markdown",
   "metadata": {},
   "source": [
    "# Zoom Trick\n",
    "The required sampling depends on\n",
    "+ whether you calculate an `apsf` or an intensity `psf`\n",
    "+ whether you calculate in `ModeWidefield` or `ModeConfocal`\n",
    "+ Fourier-upsampling (`FourierTools.upsample2`) is quicker than calculation with higher sampling"
   ]
  },
  {
   "cell_type": "code",
   "execution_count": null,
   "metadata": {},
   "outputs": [],
   "source": [
    "sampling = (0.07, 0.07, 0.2); sz = (256,256,256)\n",
    "pp =PSFParams(λ_em, 0.8, 1.0; method=MethodRichardsWolf, pol=pol_scalar)\n",
    "a_wf = apsf(sz, pp; sampling=sampling);\n",
    "p_wf = psf(sz, pp; sampling=sampling);\n",
    "pp_em =PSFParams(λ_em, 0.8, 1.0; mode=ModeConfocal, method=MethodPropagateIterative, pol=pol_scalar)\n",
    "pp_ex =PSFParams(λ_ex, 0.8, 1.0; method=MethodPropagateIterative, pol=pol_scalar)\n",
    "p_conf = psf(sz, pp_em; pp_ex=pp_ex, pinhole=0.1, sampling=sampling);\n",
    "show_xyz(ft(a_wf), ft(p_wf), ft(p_conf), gamma=0.6)\n"
   ]
  },
  {
   "cell_type": "markdown",
   "metadata": {},
   "source": [
    "Note how the amplitude OTF the McCutchen pupil (top), the widefield OTF (middle) and the confocal OTF (bottom) need succesively more space."
   ]
  },
  {
   "cell_type": "markdown",
   "metadata": {},
   "source": [
    "## The resampling trick can be disabled"
   ]
  },
  {
   "cell_type": "code",
   "execution_count": null,
   "metadata": {},
   "outputs": [],
   "source": [
    "@time p_conf_sub = psf(sz, pp_em; pp_ex=pp_ex, pinhole=0.1, sampling=sampling);\n",
    "@time p_conf_no_sub = psf(sz, pp_em; pp_ex=pp_ex, pinhole=0.1, sampling=sampling,  use_resampling=false);\n",
    "show_xyz(ft(p_conf_sub), ft(p_conf_no_sub), gamma=0.6)"
   ]
  },
  {
   "cell_type": "markdown",
   "metadata": {},
   "source": [
    "# The Widefield Z-undersampling problem\n",
    "How about Z-sampling of a WF amplitude PSF?\n",
    "\n",
    "Solution to be able to apply the subsampling trick: center Fourier-shell on creation, resample, apply phase-ramp "
   ]
  },
  {
   "cell_type": "code",
   "execution_count": null,
   "metadata": {},
   "outputs": [],
   "source": [
    "sampling = (0.07, 0.07, 0.29); sz = (256,256,256)\n",
    "pp =PSFParams(λ_em, 0.8, 1.0; method=MethodRichardsWolf, pol=pol_scalar)\n",
    "a_wf = apsf(sz, pp; sampling=sampling);\n",
    "p_wf = psf(sz, pp; sampling=sampling);\n",
    "pp_em =PSFParams(λ_em, 0.8, 1.0; mode=ModeConfocal, method=MethodPropagateIterative, pol=pol_scalar)\n",
    "pp_ex =PSFParams(λ_ex, 0.8, 1.0; method=MethodPropagateIterative, pol=pol_scalar)\n",
    "p_conf = psf(sz, pp_em; pp_ex=pp_ex, pinhole=0.1, sampling=sampling);\n",
    "show_xyz(ft(a_wf), ft(p_wf), ft(p_conf), gamma=0.6)"
   ]
  },
  {
   "cell_type": "markdown",
   "metadata": {},
   "source": [
    "Note that the amplitude is ALIASED along k_z\n",
    "\n",
    "But this is OK as long as the intensity is calculated!"
   ]
  },
  {
   "cell_type": "markdown",
   "metadata": {},
   "source": [
    "# Outlook\n",
    "+ use `Unitful`\n",
    "+ implement the z-mirror trick for further speed improvement\n",
    "+ implement a CZT method (pupil covers full range and CZT zooms in)\n",
    "+ implement aberrations in the Richards & Wolf method\n",
    "+ implement more `mode`s such as `ModeLightsheet`, `ModeUZI`, `ModeSTED`, `Mode3Photon`\n",
    "+ optionally account for the pixel form factor (i.e. multiply OTF by `sinc`)\n",
    "+ normalize pupil instead of focal plane?\n",
    "+ make `PointSpreadFunctions.jl` Cuda compatible\n",
    "+ make `PointSpreadFunctions.jl` Zygote compatible\n",
    "+ add PSF parameter-fitting using measured PSF data"
   ]
  },
  {
   "cell_type": "markdown",
   "metadata": {},
   "source": [
    "# Acknowledgement\n",
    "+ Dina Ratsimandresy (PSF discussions)\n",
    "+ Felix Wechsler (Julia help)\n",
    "+ Martin Kielhorn (sincR method)"
   ]
  },
  {
   "cell_type": "markdown",
   "metadata": {},
   "source": []
  }
 ],
 "metadata": {
  "@webio": {
   "lastCommId": "b2194e8bbdbf4eaf92219b203f45c14f",
   "lastKernelId": "4b66a38e-9c8d-4ab9-be6a-301dec8a7b02"
  },
  "kernelspec": {
   "display_name": "Julia 1.7.3",
   "language": "julia",
   "name": "julia-1.7"
  },
  "language_info": {
   "file_extension": ".jl",
   "mimetype": "application/julia",
   "name": "julia",
   "version": "1.7.3"
  }
 },
 "nbformat": 4,
 "nbformat_minor": 2
}
